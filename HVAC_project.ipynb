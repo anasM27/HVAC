{
  "cells": [
    {
      "cell_type": "markdown",
      "metadata": {
        "id": "view-in-github",
        "colab_type": "text"
      },
      "source": [
        "<a href=\"https://colab.research.google.com/github/anasM27/HVAC/blob/main/HVAC_project.ipynb\" target=\"_parent\"><img src=\"https://colab.research.google.com/assets/colab-badge.svg\" alt=\"Open In Colab\"/></a>"
      ]
    },
    {
      "cell_type": "code",
      "source": [
        "# Online Python compiler (interpreter) to run Python online.\n",
        "# Write Python 3 code in this online editor and run it.\n",
        "import pandas as pd\n",
        "import numpy as np\n",
        "from sklearn.model_selection import train_test_split\n",
        "from sklearn.preprocessing import LabelEncoder\n",
        "from sklearn.ensemble import RandomForestClassifier\n",
        "from sklearn.metrics import accuracy_score, classification_report\n",
        "\n",
        "# Load dataset\n",
        "data_path = \"HVAC_Motor_Bearing_Wear_Data_Updated.xlsx\"\n",
        "df = pd.read_excel(data_path)\n",
        "\n",
        "# Encode categorical labels\n",
        "label_encoder = LabelEncoder()\n",
        "df[\"Bearing Condition\"] = label_encoder.fit_transform(df[\"Bearing Condition\"])\n",
        "\n",
        "# Split data into features and target\n",
        "X = df.drop(columns=[\"Bearing Condition\"])\n",
        "y = df[\"Bearing Condition\"]\n",
        "\n",
        "# Split into training and testing sets\n",
        "X_train, X_test, y_train, y_test = train_test_split(X, y, test_size=0.2, random_state=42)\n",
        "\n",
        "# Train Random Forest model\n",
        "model = RandomForestClassifier(n_estimators=100, random_state=42)\n",
        "model.fit(X_train, y_train)\n",
        "\n",
        "# Predictions\n",
        "y_pred = model.predict(X_test)\n",
        "\n",
        "# Evaluate model\n",
        "accuracy = accuracy_score(y_test, y_pred)\n",
        "print(f\"Model Accuracy: {accuracy:.2f}\")\n",
        "print(classification_report(y_test, y_pred))\n",
        "\n",
        "# Function for making new predictions\n",
        "def predict_bearing_condition(new_data):\n",
        "    new_df = pd.DataFrame([new_data])\n",
        "    prediction = model.predict(new_df)\n",
        "    return label_encoder.inverse_transform(prediction)[0]\n",
        "\n",
        "# Example usage\n",
        "new_sample = {\n",
        "    \"Vibration Frequency (Hz)\": 65,\n",
        "    \"Temperature (°C)\": 60,\n",
        "    \"Humidity (%RH)\": 75,\n",
        "    \"Operating Hours\": 5000,\n",
        "    \"Load Factor (%)\": 90\n",
        "}\n",
        "\n",
        "predicted_condition = predict_bearing_condition(new_sample)\n",
        "print(f\"Predicted Bearing Condition: {predicted_condition}\")\n"
      ],
      "metadata": {
        "colab": {
          "base_uri": "https://localhost:8080/"
        },
        "id": "im1U3am10GHs",
        "outputId": "9ce032c6-3b61-486c-bda9-a05354316600"
      },
      "execution_count": 3,
      "outputs": [
        {
          "output_type": "stream",
          "name": "stdout",
          "text": [
            "Model Accuracy: 1.00\n",
            "              precision    recall  f1-score   support\n",
            "\n",
            "           0       1.00      1.00      1.00        21\n",
            "           1       1.00      1.00      1.00        19\n",
            "\n",
            "    accuracy                           1.00        40\n",
            "   macro avg       1.00      1.00      1.00        40\n",
            "weighted avg       1.00      1.00      1.00        40\n",
            "\n",
            "Predicted Bearing Condition: Worn-Out\n"
          ]
        }
      ]
    },
    {
      "cell_type": "markdown",
      "source": [
        "# New Section"
      ],
      "metadata": {
        "id": "XN92OTCr9-9M"
      }
    }
  ],
  "metadata": {
    "colab": {
      "provenance": [],
      "include_colab_link": true
    },
    "kernelspec": {
      "display_name": "Python 3",
      "name": "python3"
    }
  },
  "nbformat": 4,
  "nbformat_minor": 0
}